{
 "cells": [
  {
   "cell_type": "code",
   "execution_count": 1,
   "id": "16e412bb",
   "metadata": {
    "_cell_guid": "b1076dfc-b9ad-4769-8c92-a6c4dae69d19",
    "_uuid": "8f2839f25d086af736a60e9eeb907d3b93b6e0e5",
    "execution": {
     "iopub.execute_input": "2023-11-02T20:45:29.387357Z",
     "iopub.status.busy": "2023-11-02T20:45:29.386718Z",
     "iopub.status.idle": "2023-11-02T20:45:29.908790Z",
     "shell.execute_reply": "2023-11-02T20:45:29.906770Z"
    },
    "papermill": {
     "duration": 0.53523,
     "end_time": "2023-11-02T20:45:29.911805",
     "exception": false,
     "start_time": "2023-11-02T20:45:29.376575",
     "status": "completed"
    },
    "tags": []
   },
   "outputs": [
    {
     "name": "stdout",
     "output_type": "stream",
     "text": [
      "/kaggle/input/discover-the-menu/menupage.csv\n",
      "/kaggle/input/discover-the-menu/dish.csv\n",
      "/kaggle/input/discover-the-menu/menu.csv\n",
      "/kaggle/input/discover-the-menu/menuitem.csv\n",
      "/kaggle/input/discover-the-menu/datapackage.json\n"
     ]
    }
   ],
   "source": [
    "# This Python 3 environment comes with many helpful analytics libraries installed\n",
    "# It is defined by the kaggle/python Docker image: https://github.com/kaggle/docker-python\n",
    "# For example, here's several helpful packages to load\n",
    "\n",
    "import numpy as np # linear algebra\n",
    "import pandas as pd # data processing, CSV file I/O (e.g. pd.read_csv)\n",
    "\n",
    "# Input data files are available in the read-only \"../input/\" directory\n",
    "# For example, running this (by clicking run or pressing Shift+Enter) will list all files under the input directory\n",
    "\n",
    "import os\n",
    "for dirname, _, filenames in os.walk('/kaggle/input'):\n",
    "    for filename in filenames:\n",
    "        print(os.path.join(dirname, filename))\n",
    "\n",
    "# You can write up to 20GB to the current directory (/kaggle/working/) that gets preserved as output when you create a version using \"Save & Run All\" \n",
    "# You can also write temporary files to /kaggle/temp/, but they won't be saved outside of the current session"
   ]
  },
  {
   "cell_type": "code",
   "execution_count": 2,
   "id": "0d053ff0",
   "metadata": {
    "execution": {
     "iopub.execute_input": "2023-11-02T20:45:29.929803Z",
     "iopub.status.busy": "2023-11-02T20:45:29.929171Z",
     "iopub.status.idle": "2023-11-02T20:45:47.031268Z",
     "shell.execute_reply": "2023-11-02T20:45:47.029550Z"
    },
    "papermill": {
     "duration": 17.114949,
     "end_time": "2023-11-02T20:45:47.034547",
     "exception": false,
     "start_time": "2023-11-02T20:45:29.919598",
     "status": "completed"
    },
    "tags": []
   },
   "outputs": [
    {
     "name": "stdout",
     "output_type": "stream",
     "text": [
      "Collecting scikit-learn-extra\r\n",
      "  Downloading scikit_learn_extra-0.3.0-cp310-cp310-manylinux_2_17_x86_64.manylinux2014_x86_64.whl (2.0 MB)\r\n",
      "\u001b[2K     \u001b[90m━━━━━━━━━━━━━━━━━━━━━━━━━━━━━━━━━━━━━━━━\u001b[0m \u001b[32m2.0/2.0 MB\u001b[0m \u001b[31m25.7 MB/s\u001b[0m eta \u001b[36m0:00:00\u001b[0m\r\n",
      "\u001b[?25hRequirement already satisfied: numpy>=1.13.3 in /opt/conda/lib/python3.10/site-packages (from scikit-learn-extra) (1.23.5)\r\n",
      "Requirement already satisfied: scipy>=0.19.1 in /opt/conda/lib/python3.10/site-packages (from scikit-learn-extra) (1.11.2)\r\n",
      "Requirement already satisfied: scikit-learn>=0.23.0 in /opt/conda/lib/python3.10/site-packages (from scikit-learn-extra) (1.2.2)\r\n",
      "Requirement already satisfied: joblib>=1.1.1 in /opt/conda/lib/python3.10/site-packages (from scikit-learn>=0.23.0->scikit-learn-extra) (1.3.2)\r\n",
      "Requirement already satisfied: threadpoolctl>=2.0.0 in /opt/conda/lib/python3.10/site-packages (from scikit-learn>=0.23.0->scikit-learn-extra) (3.1.0)\r\n",
      "Installing collected packages: scikit-learn-extra\r\n",
      "Successfully installed scikit-learn-extra-0.3.0\r\n"
     ]
    }
   ],
   "source": [
    "!pip install scikit-learn-extra"
   ]
  },
  {
   "cell_type": "code",
   "execution_count": 3,
   "id": "7598884d",
   "metadata": {
    "execution": {
     "iopub.execute_input": "2023-11-02T20:45:47.053867Z",
     "iopub.status.busy": "2023-11-02T20:45:47.053370Z",
     "iopub.status.idle": "2023-11-02T20:45:49.099502Z",
     "shell.execute_reply": "2023-11-02T20:45:49.097865Z"
    },
    "papermill": {
     "duration": 2.059711,
     "end_time": "2023-11-02T20:45:49.102778",
     "exception": false,
     "start_time": "2023-11-02T20:45:47.043067",
     "status": "completed"
    },
    "tags": []
   },
   "outputs": [],
   "source": [
    "from sklearn_extra.cluster import KMedoids"
   ]
  },
  {
   "cell_type": "code",
   "execution_count": 4,
   "id": "51a63a6d",
   "metadata": {
    "execution": {
     "iopub.execute_input": "2023-11-02T20:45:49.123182Z",
     "iopub.status.busy": "2023-11-02T20:45:49.122678Z",
     "iopub.status.idle": "2023-11-02T20:45:50.436585Z",
     "shell.execute_reply": "2023-11-02T20:45:50.435019Z"
    },
    "papermill": {
     "duration": 1.328132,
     "end_time": "2023-11-02T20:45:50.440295",
     "exception": false,
     "start_time": "2023-11-02T20:45:49.112163",
     "status": "completed"
    },
    "tags": []
   },
   "outputs": [],
   "source": [
    "dish = pd.read_csv('/kaggle/input/discover-the-menu/dish.csv')"
   ]
  },
  {
   "cell_type": "code",
   "execution_count": 5,
   "id": "48a04a00",
   "metadata": {
    "execution": {
     "iopub.execute_input": "2023-11-02T20:45:50.459712Z",
     "iopub.status.busy": "2023-11-02T20:45:50.458707Z",
     "iopub.status.idle": "2023-11-02T20:45:50.490300Z",
     "shell.execute_reply": "2023-11-02T20:45:50.489107Z"
    },
    "papermill": {
     "duration": 0.044751,
     "end_time": "2023-11-02T20:45:50.493224",
     "exception": false,
     "start_time": "2023-11-02T20:45:50.448473",
     "status": "completed"
    },
    "tags": []
   },
   "outputs": [
    {
     "data": {
      "text/html": [
       "<div>\n",
       "<style scoped>\n",
       "    .dataframe tbody tr th:only-of-type {\n",
       "        vertical-align: middle;\n",
       "    }\n",
       "\n",
       "    .dataframe tbody tr th {\n",
       "        vertical-align: top;\n",
       "    }\n",
       "\n",
       "    .dataframe thead th {\n",
       "        text-align: right;\n",
       "    }\n",
       "</style>\n",
       "<table border=\"1\" class=\"dataframe\">\n",
       "  <thead>\n",
       "    <tr style=\"text-align: right;\">\n",
       "      <th></th>\n",
       "      <th>id</th>\n",
       "      <th>name</th>\n",
       "      <th>description</th>\n",
       "      <th>menus_appeared</th>\n",
       "      <th>times_appeared</th>\n",
       "      <th>first_appeared</th>\n",
       "      <th>last_appeared</th>\n",
       "      <th>lowest_price</th>\n",
       "      <th>highest_price</th>\n",
       "    </tr>\n",
       "  </thead>\n",
       "  <tbody>\n",
       "    <tr>\n",
       "      <th>0</th>\n",
       "      <td>1</td>\n",
       "      <td>Consomme printaniere royal</td>\n",
       "      <td>NaN</td>\n",
       "      <td>8</td>\n",
       "      <td>8</td>\n",
       "      <td>1897</td>\n",
       "      <td>1927</td>\n",
       "      <td>0.20</td>\n",
       "      <td>0.4</td>\n",
       "    </tr>\n",
       "    <tr>\n",
       "      <th>1</th>\n",
       "      <td>2</td>\n",
       "      <td>Chicken gumbo</td>\n",
       "      <td>NaN</td>\n",
       "      <td>111</td>\n",
       "      <td>117</td>\n",
       "      <td>1895</td>\n",
       "      <td>1960</td>\n",
       "      <td>0.10</td>\n",
       "      <td>0.8</td>\n",
       "    </tr>\n",
       "    <tr>\n",
       "      <th>2</th>\n",
       "      <td>3</td>\n",
       "      <td>Tomato aux croutons</td>\n",
       "      <td>NaN</td>\n",
       "      <td>14</td>\n",
       "      <td>14</td>\n",
       "      <td>1893</td>\n",
       "      <td>1917</td>\n",
       "      <td>0.25</td>\n",
       "      <td>0.4</td>\n",
       "    </tr>\n",
       "    <tr>\n",
       "      <th>3</th>\n",
       "      <td>4</td>\n",
       "      <td>Onion au gratin</td>\n",
       "      <td>NaN</td>\n",
       "      <td>41</td>\n",
       "      <td>41</td>\n",
       "      <td>1900</td>\n",
       "      <td>1971</td>\n",
       "      <td>0.25</td>\n",
       "      <td>1.0</td>\n",
       "    </tr>\n",
       "    <tr>\n",
       "      <th>4</th>\n",
       "      <td>5</td>\n",
       "      <td>St. Emilion</td>\n",
       "      <td>NaN</td>\n",
       "      <td>66</td>\n",
       "      <td>68</td>\n",
       "      <td>1881</td>\n",
       "      <td>1981</td>\n",
       "      <td>0.00</td>\n",
       "      <td>18.0</td>\n",
       "    </tr>\n",
       "  </tbody>\n",
       "</table>\n",
       "</div>"
      ],
      "text/plain": [
       "   id                        name  description  menus_appeared  \\\n",
       "0   1  Consomme printaniere royal          NaN               8   \n",
       "1   2               Chicken gumbo          NaN             111   \n",
       "2   3         Tomato aux croutons          NaN              14   \n",
       "3   4             Onion au gratin          NaN              41   \n",
       "4   5                 St. Emilion          NaN              66   \n",
       "\n",
       "   times_appeared  first_appeared  last_appeared  lowest_price  highest_price  \n",
       "0               8            1897           1927          0.20            0.4  \n",
       "1             117            1895           1960          0.10            0.8  \n",
       "2              14            1893           1917          0.25            0.4  \n",
       "3              41            1900           1971          0.25            1.0  \n",
       "4              68            1881           1981          0.00           18.0  "
      ]
     },
     "execution_count": 5,
     "metadata": {},
     "output_type": "execute_result"
    }
   ],
   "source": [
    "dish.head()"
   ]
  },
  {
   "cell_type": "code",
   "execution_count": 6,
   "id": "a474789a",
   "metadata": {
    "execution": {
     "iopub.execute_input": "2023-11-02T20:45:50.511786Z",
     "iopub.status.busy": "2023-11-02T20:45:50.511396Z",
     "iopub.status.idle": "2023-11-02T20:45:50.519400Z",
     "shell.execute_reply": "2023-11-02T20:45:50.517946Z"
    },
    "papermill": {
     "duration": 0.020334,
     "end_time": "2023-11-02T20:45:50.521991",
     "exception": false,
     "start_time": "2023-11-02T20:45:50.501657",
     "status": "completed"
    },
    "tags": []
   },
   "outputs": [
    {
     "data": {
      "text/plain": [
       "(426740, 9)"
      ]
     },
     "execution_count": 6,
     "metadata": {},
     "output_type": "execute_result"
    }
   ],
   "source": [
    "dish.shape"
   ]
  },
  {
   "cell_type": "code",
   "execution_count": 7,
   "id": "a00811d4",
   "metadata": {
    "execution": {
     "iopub.execute_input": "2023-11-02T20:45:50.540766Z",
     "iopub.status.busy": "2023-11-02T20:45:50.540360Z",
     "iopub.status.idle": "2023-11-02T20:45:50.717539Z",
     "shell.execute_reply": "2023-11-02T20:45:50.716495Z"
    },
    "papermill": {
     "duration": 0.190587,
     "end_time": "2023-11-02T20:45:50.721002",
     "exception": false,
     "start_time": "2023-11-02T20:45:50.530415",
     "status": "completed"
    },
    "tags": []
   },
   "outputs": [
    {
     "data": {
      "text/html": [
       "<div>\n",
       "<style scoped>\n",
       "    .dataframe tbody tr th:only-of-type {\n",
       "        vertical-align: middle;\n",
       "    }\n",
       "\n",
       "    .dataframe tbody tr th {\n",
       "        vertical-align: top;\n",
       "    }\n",
       "\n",
       "    .dataframe thead th {\n",
       "        text-align: right;\n",
       "    }\n",
       "</style>\n",
       "<table border=\"1\" class=\"dataframe\">\n",
       "  <thead>\n",
       "    <tr style=\"text-align: right;\">\n",
       "      <th></th>\n",
       "      <th>id</th>\n",
       "      <th>description</th>\n",
       "      <th>menus_appeared</th>\n",
       "      <th>times_appeared</th>\n",
       "      <th>first_appeared</th>\n",
       "      <th>last_appeared</th>\n",
       "      <th>lowest_price</th>\n",
       "      <th>highest_price</th>\n",
       "    </tr>\n",
       "  </thead>\n",
       "  <tbody>\n",
       "    <tr>\n",
       "      <th>count</th>\n",
       "      <td>426740.000000</td>\n",
       "      <td>0.0</td>\n",
       "      <td>426740.000000</td>\n",
       "      <td>426740.000000</td>\n",
       "      <td>426740.000000</td>\n",
       "      <td>426740.000000</td>\n",
       "      <td>397639.000000</td>\n",
       "      <td>397639.000000</td>\n",
       "    </tr>\n",
       "    <tr>\n",
       "      <th>mean</th>\n",
       "      <td>266438.807693</td>\n",
       "      <td>NaN</td>\n",
       "      <td>3.045430</td>\n",
       "      <td>3.126079</td>\n",
       "      <td>1662.388843</td>\n",
       "      <td>1666.144374</td>\n",
       "      <td>0.957152</td>\n",
       "      <td>1.590395</td>\n",
       "    </tr>\n",
       "    <tr>\n",
       "      <th>std</th>\n",
       "      <td>151548.608313</td>\n",
       "      <td>NaN</td>\n",
       "      <td>27.712989</td>\n",
       "      <td>29.854850</td>\n",
       "      <td>665.369340</td>\n",
       "      <td>666.038925</td>\n",
       "      <td>6.686869</td>\n",
       "      <td>12.643656</td>\n",
       "    </tr>\n",
       "    <tr>\n",
       "      <th>min</th>\n",
       "      <td>1.000000</td>\n",
       "      <td>NaN</td>\n",
       "      <td>0.000000</td>\n",
       "      <td>-6.000000</td>\n",
       "      <td>0.000000</td>\n",
       "      <td>0.000000</td>\n",
       "      <td>0.000000</td>\n",
       "      <td>0.000000</td>\n",
       "    </tr>\n",
       "    <tr>\n",
       "      <th>25%</th>\n",
       "      <td>133385.750000</td>\n",
       "      <td>NaN</td>\n",
       "      <td>1.000000</td>\n",
       "      <td>1.000000</td>\n",
       "      <td>1900.000000</td>\n",
       "      <td>1900.000000</td>\n",
       "      <td>0.000000</td>\n",
       "      <td>0.000000</td>\n",
       "    </tr>\n",
       "    <tr>\n",
       "      <th>50%</th>\n",
       "      <td>271534.500000</td>\n",
       "      <td>NaN</td>\n",
       "      <td>1.000000</td>\n",
       "      <td>1.000000</td>\n",
       "      <td>1914.000000</td>\n",
       "      <td>1917.000000</td>\n",
       "      <td>0.000000</td>\n",
       "      <td>0.000000</td>\n",
       "    </tr>\n",
       "    <tr>\n",
       "      <th>75%</th>\n",
       "      <td>399909.250000</td>\n",
       "      <td>NaN</td>\n",
       "      <td>1.000000</td>\n",
       "      <td>1.000000</td>\n",
       "      <td>1949.000000</td>\n",
       "      <td>1955.000000</td>\n",
       "      <td>0.400000</td>\n",
       "      <td>0.550000</td>\n",
       "    </tr>\n",
       "    <tr>\n",
       "      <th>max</th>\n",
       "      <td>519172.000000</td>\n",
       "      <td>NaN</td>\n",
       "      <td>7747.000000</td>\n",
       "      <td>8495.000000</td>\n",
       "      <td>2928.000000</td>\n",
       "      <td>2928.000000</td>\n",
       "      <td>1035.000000</td>\n",
       "      <td>3050.000000</td>\n",
       "    </tr>\n",
       "  </tbody>\n",
       "</table>\n",
       "</div>"
      ],
      "text/plain": [
       "                  id  description  menus_appeared  times_appeared  \\\n",
       "count  426740.000000          0.0   426740.000000   426740.000000   \n",
       "mean   266438.807693          NaN        3.045430        3.126079   \n",
       "std    151548.608313          NaN       27.712989       29.854850   \n",
       "min         1.000000          NaN        0.000000       -6.000000   \n",
       "25%    133385.750000          NaN        1.000000        1.000000   \n",
       "50%    271534.500000          NaN        1.000000        1.000000   \n",
       "75%    399909.250000          NaN        1.000000        1.000000   \n",
       "max    519172.000000          NaN     7747.000000     8495.000000   \n",
       "\n",
       "       first_appeared  last_appeared   lowest_price  highest_price  \n",
       "count   426740.000000  426740.000000  397639.000000  397639.000000  \n",
       "mean      1662.388843    1666.144374       0.957152       1.590395  \n",
       "std        665.369340     666.038925       6.686869      12.643656  \n",
       "min          0.000000       0.000000       0.000000       0.000000  \n",
       "25%       1900.000000    1900.000000       0.000000       0.000000  \n",
       "50%       1914.000000    1917.000000       0.000000       0.000000  \n",
       "75%       1949.000000    1955.000000       0.400000       0.550000  \n",
       "max       2928.000000    2928.000000    1035.000000    3050.000000  "
      ]
     },
     "execution_count": 7,
     "metadata": {},
     "output_type": "execute_result"
    }
   ],
   "source": [
    "dish.describe()"
   ]
  },
  {
   "cell_type": "code",
   "execution_count": 8,
   "id": "702ea721",
   "metadata": {
    "execution": {
     "iopub.execute_input": "2023-11-02T20:45:50.746021Z",
     "iopub.status.busy": "2023-11-02T20:45:50.745389Z",
     "iopub.status.idle": "2023-11-02T20:45:50.766876Z",
     "shell.execute_reply": "2023-11-02T20:45:50.765596Z"
    },
    "papermill": {
     "duration": 0.035501,
     "end_time": "2023-11-02T20:45:50.769348",
     "exception": false,
     "start_time": "2023-11-02T20:45:50.733847",
     "status": "completed"
    },
    "tags": []
   },
   "outputs": [
    {
     "data": {
      "text/html": [
       "<div>\n",
       "<style scoped>\n",
       "    .dataframe tbody tr th:only-of-type {\n",
       "        vertical-align: middle;\n",
       "    }\n",
       "\n",
       "    .dataframe tbody tr th {\n",
       "        vertical-align: top;\n",
       "    }\n",
       "\n",
       "    .dataframe thead th {\n",
       "        text-align: right;\n",
       "    }\n",
       "</style>\n",
       "<table border=\"1\" class=\"dataframe\">\n",
       "  <thead>\n",
       "    <tr style=\"text-align: right;\">\n",
       "      <th></th>\n",
       "      <th>id</th>\n",
       "      <th>name</th>\n",
       "      <th>description</th>\n",
       "      <th>menus_appeared</th>\n",
       "      <th>times_appeared</th>\n",
       "      <th>first_appeared</th>\n",
       "      <th>last_appeared</th>\n",
       "      <th>lowest_price</th>\n",
       "      <th>highest_price</th>\n",
       "    </tr>\n",
       "  </thead>\n",
       "  <tbody>\n",
       "    <tr>\n",
       "      <th>426735</th>\n",
       "      <td>519144</td>\n",
       "      <td>Vanilla and chocolate ice cream</td>\n",
       "      <td>NaN</td>\n",
       "      <td>1</td>\n",
       "      <td>1</td>\n",
       "      <td>0</td>\n",
       "      <td>0</td>\n",
       "      <td>0.0</td>\n",
       "      <td>0.0</td>\n",
       "    </tr>\n",
       "    <tr>\n",
       "      <th>426736</th>\n",
       "      <td>519169</td>\n",
       "      <td>Mutton soup with Porto wine Cream soup Chicago...</td>\n",
       "      <td>NaN</td>\n",
       "      <td>1</td>\n",
       "      <td>1</td>\n",
       "      <td>0</td>\n",
       "      <td>0</td>\n",
       "      <td>0.0</td>\n",
       "      <td>0.0</td>\n",
       "    </tr>\n",
       "    <tr>\n",
       "      <th>426737</th>\n",
       "      <td>519170</td>\n",
       "      <td>Moussaka Oriental style Montana roebucks saddl...</td>\n",
       "      <td>NaN</td>\n",
       "      <td>1</td>\n",
       "      <td>0</td>\n",
       "      <td>0</td>\n",
       "      <td>0</td>\n",
       "      <td>0.0</td>\n",
       "      <td>0.0</td>\n",
       "    </tr>\n",
       "    <tr>\n",
       "      <th>426738</th>\n",
       "      <td>519171</td>\n",
       "      <td>Prima Classe</td>\n",
       "      <td>NaN</td>\n",
       "      <td>1</td>\n",
       "      <td>1</td>\n",
       "      <td>0</td>\n",
       "      <td>0</td>\n",
       "      <td>0.0</td>\n",
       "      <td>0.0</td>\n",
       "    </tr>\n",
       "    <tr>\n",
       "      <th>426739</th>\n",
       "      <td>519172</td>\n",
       "      <td>Comandante Cap. Sup. Mario Crepaz</td>\n",
       "      <td>NaN</td>\n",
       "      <td>1</td>\n",
       "      <td>1</td>\n",
       "      <td>0</td>\n",
       "      <td>0</td>\n",
       "      <td>0.0</td>\n",
       "      <td>0.0</td>\n",
       "    </tr>\n",
       "  </tbody>\n",
       "</table>\n",
       "</div>"
      ],
      "text/plain": [
       "            id                                               name  \\\n",
       "426735  519144                    Vanilla and chocolate ice cream   \n",
       "426736  519169  Mutton soup with Porto wine Cream soup Chicago...   \n",
       "426737  519170  Moussaka Oriental style Montana roebucks saddl...   \n",
       "426738  519171                                       Prima Classe   \n",
       "426739  519172                  Comandante Cap. Sup. Mario Crepaz   \n",
       "\n",
       "        description  menus_appeared  times_appeared  first_appeared  \\\n",
       "426735          NaN               1               1               0   \n",
       "426736          NaN               1               1               0   \n",
       "426737          NaN               1               0               0   \n",
       "426738          NaN               1               1               0   \n",
       "426739          NaN               1               1               0   \n",
       "\n",
       "        last_appeared  lowest_price  highest_price  \n",
       "426735              0           0.0            0.0  \n",
       "426736              0           0.0            0.0  \n",
       "426737              0           0.0            0.0  \n",
       "426738              0           0.0            0.0  \n",
       "426739              0           0.0            0.0  "
      ]
     },
     "execution_count": 8,
     "metadata": {},
     "output_type": "execute_result"
    }
   ],
   "source": [
    "dish.tail()"
   ]
  },
  {
   "cell_type": "code",
   "execution_count": 9,
   "id": "e14ce55b",
   "metadata": {
    "execution": {
     "iopub.execute_input": "2023-11-02T20:45:50.790673Z",
     "iopub.status.busy": "2023-11-02T20:45:50.789663Z",
     "iopub.status.idle": "2023-11-02T20:45:50.880786Z",
     "shell.execute_reply": "2023-11-02T20:45:50.879813Z"
    },
    "papermill": {
     "duration": 0.105037,
     "end_time": "2023-11-02T20:45:50.883629",
     "exception": false,
     "start_time": "2023-11-02T20:45:50.778592",
     "status": "completed"
    },
    "tags": []
   },
   "outputs": [
    {
     "data": {
      "text/html": [
       "<div>\n",
       "<style scoped>\n",
       "    .dataframe tbody tr th:only-of-type {\n",
       "        vertical-align: middle;\n",
       "    }\n",
       "\n",
       "    .dataframe tbody tr th {\n",
       "        vertical-align: top;\n",
       "    }\n",
       "\n",
       "    .dataframe thead th {\n",
       "        text-align: right;\n",
       "    }\n",
       "</style>\n",
       "<table border=\"1\" class=\"dataframe\">\n",
       "  <thead>\n",
       "    <tr style=\"text-align: right;\">\n",
       "      <th></th>\n",
       "      <th>id</th>\n",
       "      <th>name</th>\n",
       "      <th>description</th>\n",
       "      <th>menus_appeared</th>\n",
       "      <th>times_appeared</th>\n",
       "      <th>first_appeared</th>\n",
       "      <th>last_appeared</th>\n",
       "      <th>lowest_price</th>\n",
       "      <th>highest_price</th>\n",
       "    </tr>\n",
       "  </thead>\n",
       "  <tbody>\n",
       "    <tr>\n",
       "      <th>0</th>\n",
       "      <td>False</td>\n",
       "      <td>False</td>\n",
       "      <td>True</td>\n",
       "      <td>False</td>\n",
       "      <td>False</td>\n",
       "      <td>False</td>\n",
       "      <td>False</td>\n",
       "      <td>False</td>\n",
       "      <td>False</td>\n",
       "    </tr>\n",
       "    <tr>\n",
       "      <th>1</th>\n",
       "      <td>False</td>\n",
       "      <td>False</td>\n",
       "      <td>True</td>\n",
       "      <td>False</td>\n",
       "      <td>False</td>\n",
       "      <td>False</td>\n",
       "      <td>False</td>\n",
       "      <td>False</td>\n",
       "      <td>False</td>\n",
       "    </tr>\n",
       "    <tr>\n",
       "      <th>2</th>\n",
       "      <td>False</td>\n",
       "      <td>False</td>\n",
       "      <td>True</td>\n",
       "      <td>False</td>\n",
       "      <td>False</td>\n",
       "      <td>False</td>\n",
       "      <td>False</td>\n",
       "      <td>False</td>\n",
       "      <td>False</td>\n",
       "    </tr>\n",
       "    <tr>\n",
       "      <th>3</th>\n",
       "      <td>False</td>\n",
       "      <td>False</td>\n",
       "      <td>True</td>\n",
       "      <td>False</td>\n",
       "      <td>False</td>\n",
       "      <td>False</td>\n",
       "      <td>False</td>\n",
       "      <td>False</td>\n",
       "      <td>False</td>\n",
       "    </tr>\n",
       "    <tr>\n",
       "      <th>4</th>\n",
       "      <td>False</td>\n",
       "      <td>False</td>\n",
       "      <td>True</td>\n",
       "      <td>False</td>\n",
       "      <td>False</td>\n",
       "      <td>False</td>\n",
       "      <td>False</td>\n",
       "      <td>False</td>\n",
       "      <td>False</td>\n",
       "    </tr>\n",
       "    <tr>\n",
       "      <th>...</th>\n",
       "      <td>...</td>\n",
       "      <td>...</td>\n",
       "      <td>...</td>\n",
       "      <td>...</td>\n",
       "      <td>...</td>\n",
       "      <td>...</td>\n",
       "      <td>...</td>\n",
       "      <td>...</td>\n",
       "      <td>...</td>\n",
       "    </tr>\n",
       "    <tr>\n",
       "      <th>426735</th>\n",
       "      <td>False</td>\n",
       "      <td>False</td>\n",
       "      <td>True</td>\n",
       "      <td>False</td>\n",
       "      <td>False</td>\n",
       "      <td>False</td>\n",
       "      <td>False</td>\n",
       "      <td>False</td>\n",
       "      <td>False</td>\n",
       "    </tr>\n",
       "    <tr>\n",
       "      <th>426736</th>\n",
       "      <td>False</td>\n",
       "      <td>False</td>\n",
       "      <td>True</td>\n",
       "      <td>False</td>\n",
       "      <td>False</td>\n",
       "      <td>False</td>\n",
       "      <td>False</td>\n",
       "      <td>False</td>\n",
       "      <td>False</td>\n",
       "    </tr>\n",
       "    <tr>\n",
       "      <th>426737</th>\n",
       "      <td>False</td>\n",
       "      <td>False</td>\n",
       "      <td>True</td>\n",
       "      <td>False</td>\n",
       "      <td>False</td>\n",
       "      <td>False</td>\n",
       "      <td>False</td>\n",
       "      <td>False</td>\n",
       "      <td>False</td>\n",
       "    </tr>\n",
       "    <tr>\n",
       "      <th>426738</th>\n",
       "      <td>False</td>\n",
       "      <td>False</td>\n",
       "      <td>True</td>\n",
       "      <td>False</td>\n",
       "      <td>False</td>\n",
       "      <td>False</td>\n",
       "      <td>False</td>\n",
       "      <td>False</td>\n",
       "      <td>False</td>\n",
       "    </tr>\n",
       "    <tr>\n",
       "      <th>426739</th>\n",
       "      <td>False</td>\n",
       "      <td>False</td>\n",
       "      <td>True</td>\n",
       "      <td>False</td>\n",
       "      <td>False</td>\n",
       "      <td>False</td>\n",
       "      <td>False</td>\n",
       "      <td>False</td>\n",
       "      <td>False</td>\n",
       "    </tr>\n",
       "  </tbody>\n",
       "</table>\n",
       "<p>426740 rows × 9 columns</p>\n",
       "</div>"
      ],
      "text/plain": [
       "           id   name  description  menus_appeared  times_appeared  \\\n",
       "0       False  False         True           False           False   \n",
       "1       False  False         True           False           False   \n",
       "2       False  False         True           False           False   \n",
       "3       False  False         True           False           False   \n",
       "4       False  False         True           False           False   \n",
       "...       ...    ...          ...             ...             ...   \n",
       "426735  False  False         True           False           False   \n",
       "426736  False  False         True           False           False   \n",
       "426737  False  False         True           False           False   \n",
       "426738  False  False         True           False           False   \n",
       "426739  False  False         True           False           False   \n",
       "\n",
       "        first_appeared  last_appeared  lowest_price  highest_price  \n",
       "0                False          False         False          False  \n",
       "1                False          False         False          False  \n",
       "2                False          False         False          False  \n",
       "3                False          False         False          False  \n",
       "4                False          False         False          False  \n",
       "...                ...            ...           ...            ...  \n",
       "426735           False          False         False          False  \n",
       "426736           False          False         False          False  \n",
       "426737           False          False         False          False  \n",
       "426738           False          False         False          False  \n",
       "426739           False          False         False          False  \n",
       "\n",
       "[426740 rows x 9 columns]"
      ]
     },
     "execution_count": 9,
     "metadata": {},
     "output_type": "execute_result"
    }
   ],
   "source": [
    "dish.isnull()"
   ]
  },
  {
   "cell_type": "code",
   "execution_count": 10,
   "id": "7883d870",
   "metadata": {
    "execution": {
     "iopub.execute_input": "2023-11-02T20:45:50.906373Z",
     "iopub.status.busy": "2023-11-02T20:45:50.904876Z",
     "iopub.status.idle": "2023-11-02T20:45:50.974451Z",
     "shell.execute_reply": "2023-11-02T20:45:50.973177Z"
    },
    "papermill": {
     "duration": 0.084337,
     "end_time": "2023-11-02T20:45:50.977785",
     "exception": false,
     "start_time": "2023-11-02T20:45:50.893448",
     "status": "completed"
    },
    "tags": []
   },
   "outputs": [
    {
     "data": {
      "text/plain": [
       "id                     0\n",
       "name                   0\n",
       "description       426740\n",
       "menus_appeared         0\n",
       "times_appeared         0\n",
       "first_appeared         0\n",
       "last_appeared          0\n",
       "lowest_price       29101\n",
       "highest_price      29101\n",
       "dtype: int64"
      ]
     },
     "execution_count": 10,
     "metadata": {},
     "output_type": "execute_result"
    }
   ],
   "source": [
    "dish.isnull().sum()"
   ]
  },
  {
   "cell_type": "code",
   "execution_count": 11,
   "id": "38053d9a",
   "metadata": {
    "execution": {
     "iopub.execute_input": "2023-11-02T20:45:51.004674Z",
     "iopub.status.busy": "2023-11-02T20:45:51.003560Z",
     "iopub.status.idle": "2023-11-02T20:45:51.037372Z",
     "shell.execute_reply": "2023-11-02T20:45:51.035666Z"
    },
    "papermill": {
     "duration": 0.049496,
     "end_time": "2023-11-02T20:45:51.040249",
     "exception": false,
     "start_time": "2023-11-02T20:45:50.990753",
     "status": "completed"
    },
    "tags": []
   },
   "outputs": [
    {
     "data": {
      "text/html": [
       "<div>\n",
       "<style scoped>\n",
       "    .dataframe tbody tr th:only-of-type {\n",
       "        vertical-align: middle;\n",
       "    }\n",
       "\n",
       "    .dataframe tbody tr th {\n",
       "        vertical-align: top;\n",
       "    }\n",
       "\n",
       "    .dataframe thead th {\n",
       "        text-align: right;\n",
       "    }\n",
       "</style>\n",
       "<table border=\"1\" class=\"dataframe\">\n",
       "  <thead>\n",
       "    <tr style=\"text-align: right;\">\n",
       "      <th></th>\n",
       "      <th>first_appeared</th>\n",
       "      <th>last_appeared</th>\n",
       "      <th>lowest_price</th>\n",
       "      <th>highest_price</th>\n",
       "    </tr>\n",
       "  </thead>\n",
       "  <tbody>\n",
       "    <tr>\n",
       "      <th>0</th>\n",
       "      <td>1897</td>\n",
       "      <td>1927</td>\n",
       "      <td>0.20</td>\n",
       "      <td>0.4</td>\n",
       "    </tr>\n",
       "    <tr>\n",
       "      <th>1</th>\n",
       "      <td>1895</td>\n",
       "      <td>1960</td>\n",
       "      <td>0.10</td>\n",
       "      <td>0.8</td>\n",
       "    </tr>\n",
       "    <tr>\n",
       "      <th>2</th>\n",
       "      <td>1893</td>\n",
       "      <td>1917</td>\n",
       "      <td>0.25</td>\n",
       "      <td>0.4</td>\n",
       "    </tr>\n",
       "    <tr>\n",
       "      <th>3</th>\n",
       "      <td>1900</td>\n",
       "      <td>1971</td>\n",
       "      <td>0.25</td>\n",
       "      <td>1.0</td>\n",
       "    </tr>\n",
       "    <tr>\n",
       "      <th>4</th>\n",
       "      <td>1881</td>\n",
       "      <td>1981</td>\n",
       "      <td>0.00</td>\n",
       "      <td>18.0</td>\n",
       "    </tr>\n",
       "    <tr>\n",
       "      <th>...</th>\n",
       "      <td>...</td>\n",
       "      <td>...</td>\n",
       "      <td>...</td>\n",
       "      <td>...</td>\n",
       "    </tr>\n",
       "    <tr>\n",
       "      <th>426735</th>\n",
       "      <td>0</td>\n",
       "      <td>0</td>\n",
       "      <td>0.00</td>\n",
       "      <td>0.0</td>\n",
       "    </tr>\n",
       "    <tr>\n",
       "      <th>426736</th>\n",
       "      <td>0</td>\n",
       "      <td>0</td>\n",
       "      <td>0.00</td>\n",
       "      <td>0.0</td>\n",
       "    </tr>\n",
       "    <tr>\n",
       "      <th>426737</th>\n",
       "      <td>0</td>\n",
       "      <td>0</td>\n",
       "      <td>0.00</td>\n",
       "      <td>0.0</td>\n",
       "    </tr>\n",
       "    <tr>\n",
       "      <th>426738</th>\n",
       "      <td>0</td>\n",
       "      <td>0</td>\n",
       "      <td>0.00</td>\n",
       "      <td>0.0</td>\n",
       "    </tr>\n",
       "    <tr>\n",
       "      <th>426739</th>\n",
       "      <td>0</td>\n",
       "      <td>0</td>\n",
       "      <td>0.00</td>\n",
       "      <td>0.0</td>\n",
       "    </tr>\n",
       "  </tbody>\n",
       "</table>\n",
       "<p>426740 rows × 4 columns</p>\n",
       "</div>"
      ],
      "text/plain": [
       "        first_appeared  last_appeared  lowest_price  highest_price\n",
       "0                 1897           1927          0.20            0.4\n",
       "1                 1895           1960          0.10            0.8\n",
       "2                 1893           1917          0.25            0.4\n",
       "3                 1900           1971          0.25            1.0\n",
       "4                 1881           1981          0.00           18.0\n",
       "...                ...            ...           ...            ...\n",
       "426735               0              0          0.00            0.0\n",
       "426736               0              0          0.00            0.0\n",
       "426737               0              0          0.00            0.0\n",
       "426738               0              0          0.00            0.0\n",
       "426739               0              0          0.00            0.0\n",
       "\n",
       "[426740 rows x 4 columns]"
      ]
     },
     "execution_count": 11,
     "metadata": {},
     "output_type": "execute_result"
    }
   ],
   "source": [
    "dish.drop(['id', 'name', 'description', 'menus_appeared', 'times_appeared'], axis=1, inplace=True)\n",
    "dish"
   ]
  },
  {
   "cell_type": "code",
   "execution_count": 12,
   "id": "5758ca1d",
   "metadata": {
    "execution": {
     "iopub.execute_input": "2023-11-02T20:45:51.063333Z",
     "iopub.status.busy": "2023-11-02T20:45:51.062834Z",
     "iopub.status.idle": "2023-11-02T20:45:51.076233Z",
     "shell.execute_reply": "2023-11-02T20:45:51.074830Z"
    },
    "papermill": {
     "duration": 0.028284,
     "end_time": "2023-11-02T20:45:51.079119",
     "exception": false,
     "start_time": "2023-11-02T20:45:51.050835",
     "status": "completed"
    },
    "tags": []
   },
   "outputs": [
    {
     "data": {
      "text/plain": [
       "first_appeared        0\n",
       "last_appeared         0\n",
       "lowest_price      29101\n",
       "highest_price     29101\n",
       "dtype: int64"
      ]
     },
     "execution_count": 12,
     "metadata": {},
     "output_type": "execute_result"
    }
   ],
   "source": [
    "dish.isnull().sum()"
   ]
  },
  {
   "cell_type": "code",
   "execution_count": 13,
   "id": "ac6111ae",
   "metadata": {
    "execution": {
     "iopub.execute_input": "2023-11-02T20:45:51.106572Z",
     "iopub.status.busy": "2023-11-02T20:45:51.105816Z",
     "iopub.status.idle": "2023-11-02T20:45:51.141321Z",
     "shell.execute_reply": "2023-11-02T20:45:51.140359Z"
    },
    "papermill": {
     "duration": 0.051788,
     "end_time": "2023-11-02T20:45:51.144459",
     "exception": false,
     "start_time": "2023-11-02T20:45:51.092671",
     "status": "completed"
    },
    "tags": []
   },
   "outputs": [
    {
     "data": {
      "text/html": [
       "<div>\n",
       "<style scoped>\n",
       "    .dataframe tbody tr th:only-of-type {\n",
       "        vertical-align: middle;\n",
       "    }\n",
       "\n",
       "    .dataframe tbody tr th {\n",
       "        vertical-align: top;\n",
       "    }\n",
       "\n",
       "    .dataframe thead th {\n",
       "        text-align: right;\n",
       "    }\n",
       "</style>\n",
       "<table border=\"1\" class=\"dataframe\">\n",
       "  <thead>\n",
       "    <tr style=\"text-align: right;\">\n",
       "      <th></th>\n",
       "      <th>first_appeared</th>\n",
       "      <th>last_appeared</th>\n",
       "      <th>lowest_price</th>\n",
       "      <th>highest_price</th>\n",
       "    </tr>\n",
       "  </thead>\n",
       "  <tbody>\n",
       "    <tr>\n",
       "      <th>0</th>\n",
       "      <td>1897</td>\n",
       "      <td>1927</td>\n",
       "      <td>0.20</td>\n",
       "      <td>0.4</td>\n",
       "    </tr>\n",
       "    <tr>\n",
       "      <th>1</th>\n",
       "      <td>1895</td>\n",
       "      <td>1960</td>\n",
       "      <td>0.10</td>\n",
       "      <td>0.8</td>\n",
       "    </tr>\n",
       "    <tr>\n",
       "      <th>2</th>\n",
       "      <td>1893</td>\n",
       "      <td>1917</td>\n",
       "      <td>0.25</td>\n",
       "      <td>0.4</td>\n",
       "    </tr>\n",
       "    <tr>\n",
       "      <th>3</th>\n",
       "      <td>1900</td>\n",
       "      <td>1971</td>\n",
       "      <td>0.25</td>\n",
       "      <td>1.0</td>\n",
       "    </tr>\n",
       "    <tr>\n",
       "      <th>4</th>\n",
       "      <td>1881</td>\n",
       "      <td>1981</td>\n",
       "      <td>0.00</td>\n",
       "      <td>18.0</td>\n",
       "    </tr>\n",
       "    <tr>\n",
       "      <th>...</th>\n",
       "      <td>...</td>\n",
       "      <td>...</td>\n",
       "      <td>...</td>\n",
       "      <td>...</td>\n",
       "    </tr>\n",
       "    <tr>\n",
       "      <th>426735</th>\n",
       "      <td>0</td>\n",
       "      <td>0</td>\n",
       "      <td>0.00</td>\n",
       "      <td>0.0</td>\n",
       "    </tr>\n",
       "    <tr>\n",
       "      <th>426736</th>\n",
       "      <td>0</td>\n",
       "      <td>0</td>\n",
       "      <td>0.00</td>\n",
       "      <td>0.0</td>\n",
       "    </tr>\n",
       "    <tr>\n",
       "      <th>426737</th>\n",
       "      <td>0</td>\n",
       "      <td>0</td>\n",
       "      <td>0.00</td>\n",
       "      <td>0.0</td>\n",
       "    </tr>\n",
       "    <tr>\n",
       "      <th>426738</th>\n",
       "      <td>0</td>\n",
       "      <td>0</td>\n",
       "      <td>0.00</td>\n",
       "      <td>0.0</td>\n",
       "    </tr>\n",
       "    <tr>\n",
       "      <th>426739</th>\n",
       "      <td>0</td>\n",
       "      <td>0</td>\n",
       "      <td>0.00</td>\n",
       "      <td>0.0</td>\n",
       "    </tr>\n",
       "  </tbody>\n",
       "</table>\n",
       "<p>397639 rows × 4 columns</p>\n",
       "</div>"
      ],
      "text/plain": [
       "        first_appeared  last_appeared  lowest_price  highest_price\n",
       "0                 1897           1927          0.20            0.4\n",
       "1                 1895           1960          0.10            0.8\n",
       "2                 1893           1917          0.25            0.4\n",
       "3                 1900           1971          0.25            1.0\n",
       "4                 1881           1981          0.00           18.0\n",
       "...                ...            ...           ...            ...\n",
       "426735               0              0          0.00            0.0\n",
       "426736               0              0          0.00            0.0\n",
       "426737               0              0          0.00            0.0\n",
       "426738               0              0          0.00            0.0\n",
       "426739               0              0          0.00            0.0\n",
       "\n",
       "[397639 rows x 4 columns]"
      ]
     },
     "execution_count": 13,
     "metadata": {},
     "output_type": "execute_result"
    }
   ],
   "source": [
    "dish.dropna(axis=0, inplace=True)\n",
    "dish"
   ]
  },
  {
   "cell_type": "code",
   "execution_count": 14,
   "id": "61cfceb7",
   "metadata": {
    "execution": {
     "iopub.execute_input": "2023-11-02T20:45:51.172446Z",
     "iopub.status.busy": "2023-11-02T20:45:51.171218Z",
     "iopub.status.idle": "2023-11-02T20:45:51.184338Z",
     "shell.execute_reply": "2023-11-02T20:45:51.183004Z"
    },
    "papermill": {
     "duration": 0.028885,
     "end_time": "2023-11-02T20:45:51.187307",
     "exception": false,
     "start_time": "2023-11-02T20:45:51.158422",
     "status": "completed"
    },
    "tags": []
   },
   "outputs": [
    {
     "data": {
      "text/plain": [
       "first_appeared    0\n",
       "last_appeared     0\n",
       "lowest_price      0\n",
       "highest_price     0\n",
       "dtype: int64"
      ]
     },
     "execution_count": 14,
     "metadata": {},
     "output_type": "execute_result"
    }
   ],
   "source": [
    "dish.isna().sum()"
   ]
  },
  {
   "cell_type": "code",
   "execution_count": 15,
   "id": "2caac1dc",
   "metadata": {
    "execution": {
     "iopub.execute_input": "2023-11-02T20:45:51.211953Z",
     "iopub.status.busy": "2023-11-02T20:45:51.211491Z",
     "iopub.status.idle": "2023-11-02T20:45:51.217197Z",
     "shell.execute_reply": "2023-11-02T20:45:51.215957Z"
    },
    "papermill": {
     "duration": 0.021363,
     "end_time": "2023-11-02T20:45:51.219761",
     "exception": false,
     "start_time": "2023-11-02T20:45:51.198398",
     "status": "completed"
    },
    "tags": []
   },
   "outputs": [],
   "source": [
    "dish = dish[:50000]"
   ]
  },
  {
   "cell_type": "code",
   "execution_count": 16,
   "id": "8b7e4b4d",
   "metadata": {
    "execution": {
     "iopub.execute_input": "2023-11-02T20:45:51.244427Z",
     "iopub.status.busy": "2023-11-02T20:45:51.243101Z",
     "iopub.status.idle": "2023-11-02T20:45:51.261592Z",
     "shell.execute_reply": "2023-11-02T20:45:51.260417Z"
    },
    "papermill": {
     "duration": 0.033282,
     "end_time": "2023-11-02T20:45:51.264021",
     "exception": false,
     "start_time": "2023-11-02T20:45:51.230739",
     "status": "completed"
    },
    "tags": []
   },
   "outputs": [
    {
     "data": {
      "text/html": [
       "<div>\n",
       "<style scoped>\n",
       "    .dataframe tbody tr th:only-of-type {\n",
       "        vertical-align: middle;\n",
       "    }\n",
       "\n",
       "    .dataframe tbody tr th {\n",
       "        vertical-align: top;\n",
       "    }\n",
       "\n",
       "    .dataframe thead th {\n",
       "        text-align: right;\n",
       "    }\n",
       "</style>\n",
       "<table border=\"1\" class=\"dataframe\">\n",
       "  <thead>\n",
       "    <tr style=\"text-align: right;\">\n",
       "      <th></th>\n",
       "      <th>first_appeared</th>\n",
       "      <th>last_appeared</th>\n",
       "      <th>lowest_price</th>\n",
       "      <th>highest_price</th>\n",
       "    </tr>\n",
       "  </thead>\n",
       "  <tbody>\n",
       "    <tr>\n",
       "      <th>0</th>\n",
       "      <td>1897</td>\n",
       "      <td>1927</td>\n",
       "      <td>0.20</td>\n",
       "      <td>0.4</td>\n",
       "    </tr>\n",
       "    <tr>\n",
       "      <th>1</th>\n",
       "      <td>1895</td>\n",
       "      <td>1960</td>\n",
       "      <td>0.10</td>\n",
       "      <td>0.8</td>\n",
       "    </tr>\n",
       "    <tr>\n",
       "      <th>2</th>\n",
       "      <td>1893</td>\n",
       "      <td>1917</td>\n",
       "      <td>0.25</td>\n",
       "      <td>0.4</td>\n",
       "    </tr>\n",
       "    <tr>\n",
       "      <th>3</th>\n",
       "      <td>1900</td>\n",
       "      <td>1971</td>\n",
       "      <td>0.25</td>\n",
       "      <td>1.0</td>\n",
       "    </tr>\n",
       "    <tr>\n",
       "      <th>4</th>\n",
       "      <td>1881</td>\n",
       "      <td>1981</td>\n",
       "      <td>0.00</td>\n",
       "      <td>18.0</td>\n",
       "    </tr>\n",
       "    <tr>\n",
       "      <th>...</th>\n",
       "      <td>...</td>\n",
       "      <td>...</td>\n",
       "      <td>...</td>\n",
       "      <td>...</td>\n",
       "    </tr>\n",
       "    <tr>\n",
       "      <th>51569</th>\n",
       "      <td>1900</td>\n",
       "      <td>1900</td>\n",
       "      <td>0.00</td>\n",
       "      <td>0.0</td>\n",
       "    </tr>\n",
       "    <tr>\n",
       "      <th>51570</th>\n",
       "      <td>1900</td>\n",
       "      <td>1958</td>\n",
       "      <td>0.00</td>\n",
       "      <td>0.5</td>\n",
       "    </tr>\n",
       "    <tr>\n",
       "      <th>51572</th>\n",
       "      <td>1900</td>\n",
       "      <td>1900</td>\n",
       "      <td>0.00</td>\n",
       "      <td>0.0</td>\n",
       "    </tr>\n",
       "    <tr>\n",
       "      <th>51573</th>\n",
       "      <td>1900</td>\n",
       "      <td>1938</td>\n",
       "      <td>0.00</td>\n",
       "      <td>0.5</td>\n",
       "    </tr>\n",
       "    <tr>\n",
       "      <th>51574</th>\n",
       "      <td>1900</td>\n",
       "      <td>1900</td>\n",
       "      <td>0.00</td>\n",
       "      <td>0.0</td>\n",
       "    </tr>\n",
       "  </tbody>\n",
       "</table>\n",
       "<p>50000 rows × 4 columns</p>\n",
       "</div>"
      ],
      "text/plain": [
       "       first_appeared  last_appeared  lowest_price  highest_price\n",
       "0                1897           1927          0.20            0.4\n",
       "1                1895           1960          0.10            0.8\n",
       "2                1893           1917          0.25            0.4\n",
       "3                1900           1971          0.25            1.0\n",
       "4                1881           1981          0.00           18.0\n",
       "...               ...            ...           ...            ...\n",
       "51569            1900           1900          0.00            0.0\n",
       "51570            1900           1958          0.00            0.5\n",
       "51572            1900           1900          0.00            0.0\n",
       "51573            1900           1938          0.00            0.5\n",
       "51574            1900           1900          0.00            0.0\n",
       "\n",
       "[50000 rows x 4 columns]"
      ]
     },
     "execution_count": 16,
     "metadata": {},
     "output_type": "execute_result"
    }
   ],
   "source": [
    "features = dish[[\"first_appeared\", \"last_appeared\", \"lowest_price\", \"highest_price\"]]\n",
    "features"
   ]
  },
  {
   "cell_type": "code",
   "execution_count": 17,
   "id": "ba276439",
   "metadata": {
    "execution": {
     "iopub.execute_input": "2023-11-02T20:45:51.288751Z",
     "iopub.status.busy": "2023-11-02T20:45:51.288298Z",
     "iopub.status.idle": "2023-11-02T20:45:51.294395Z",
     "shell.execute_reply": "2023-11-02T20:45:51.293185Z"
    },
    "papermill": {
     "duration": 0.0219,
     "end_time": "2023-11-02T20:45:51.296974",
     "exception": false,
     "start_time": "2023-11-02T20:45:51.275074",
     "status": "completed"
    },
    "tags": []
   },
   "outputs": [],
   "source": [
    "kmedoids = KMedoids(n_clusters=25, metric='euclidean', random_state=42)"
   ]
  },
  {
   "cell_type": "code",
   "execution_count": 18,
   "id": "7876d016",
   "metadata": {
    "execution": {
     "iopub.execute_input": "2023-11-02T20:45:51.323792Z",
     "iopub.status.busy": "2023-11-02T20:45:51.322031Z",
     "iopub.status.idle": "2023-11-02T20:53:59.004839Z",
     "shell.execute_reply": "2023-11-02T20:53:59.003115Z"
    },
    "papermill": {
     "duration": 487.710054,
     "end_time": "2023-11-02T20:53:59.018648",
     "exception": false,
     "start_time": "2023-11-02T20:45:51.308594",
     "status": "completed"
    },
    "tags": []
   },
   "outputs": [
    {
     "name": "stderr",
     "output_type": "stream",
     "text": [
      "/opt/conda/lib/python3.10/site-packages/sklearn_extra/cluster/_k_medoids.py:329: UserWarning: Cluster 1 is empty! self.labels_[self.medoid_indices_[1]] may not be labeled with its corresponding cluster (1).\n",
      "  warnings.warn(\n",
      "/opt/conda/lib/python3.10/site-packages/sklearn_extra/cluster/_k_medoids.py:329: UserWarning: Cluster 2 is empty! self.labels_[self.medoid_indices_[2]] may not be labeled with its corresponding cluster (2).\n",
      "  warnings.warn(\n",
      "/opt/conda/lib/python3.10/site-packages/sklearn_extra/cluster/_k_medoids.py:329: UserWarning: Cluster 3 is empty! self.labels_[self.medoid_indices_[3]] may not be labeled with its corresponding cluster (3).\n",
      "  warnings.warn(\n",
      "/opt/conda/lib/python3.10/site-packages/sklearn_extra/cluster/_k_medoids.py:329: UserWarning: Cluster 4 is empty! self.labels_[self.medoid_indices_[4]] may not be labeled with its corresponding cluster (4).\n",
      "  warnings.warn(\n",
      "/opt/conda/lib/python3.10/site-packages/sklearn_extra/cluster/_k_medoids.py:329: UserWarning: Cluster 5 is empty! self.labels_[self.medoid_indices_[5]] may not be labeled with its corresponding cluster (5).\n",
      "  warnings.warn(\n",
      "/opt/conda/lib/python3.10/site-packages/sklearn_extra/cluster/_k_medoids.py:329: UserWarning: Cluster 7 is empty! self.labels_[self.medoid_indices_[7]] may not be labeled with its corresponding cluster (7).\n",
      "  warnings.warn(\n",
      "/opt/conda/lib/python3.10/site-packages/sklearn_extra/cluster/_k_medoids.py:329: UserWarning: Cluster 8 is empty! self.labels_[self.medoid_indices_[8]] may not be labeled with its corresponding cluster (8).\n",
      "  warnings.warn(\n",
      "/opt/conda/lib/python3.10/site-packages/sklearn_extra/cluster/_k_medoids.py:329: UserWarning: Cluster 9 is empty! self.labels_[self.medoid_indices_[9]] may not be labeled with its corresponding cluster (9).\n",
      "  warnings.warn(\n",
      "/opt/conda/lib/python3.10/site-packages/sklearn_extra/cluster/_k_medoids.py:329: UserWarning: Cluster 10 is empty! self.labels_[self.medoid_indices_[10]] may not be labeled with its corresponding cluster (10).\n",
      "  warnings.warn(\n",
      "/opt/conda/lib/python3.10/site-packages/sklearn_extra/cluster/_k_medoids.py:329: UserWarning: Cluster 11 is empty! self.labels_[self.medoid_indices_[11]] may not be labeled with its corresponding cluster (11).\n",
      "  warnings.warn(\n",
      "/opt/conda/lib/python3.10/site-packages/sklearn_extra/cluster/_k_medoids.py:329: UserWarning: Cluster 12 is empty! self.labels_[self.medoid_indices_[12]] may not be labeled with its corresponding cluster (12).\n",
      "  warnings.warn(\n",
      "/opt/conda/lib/python3.10/site-packages/sklearn_extra/cluster/_k_medoids.py:329: UserWarning: Cluster 13 is empty! self.labels_[self.medoid_indices_[13]] may not be labeled with its corresponding cluster (13).\n",
      "  warnings.warn(\n",
      "/opt/conda/lib/python3.10/site-packages/sklearn_extra/cluster/_k_medoids.py:329: UserWarning: Cluster 14 is empty! self.labels_[self.medoid_indices_[14]] may not be labeled with its corresponding cluster (14).\n",
      "  warnings.warn(\n",
      "/opt/conda/lib/python3.10/site-packages/sklearn_extra/cluster/_k_medoids.py:329: UserWarning: Cluster 15 is empty! self.labels_[self.medoid_indices_[15]] may not be labeled with its corresponding cluster (15).\n",
      "  warnings.warn(\n",
      "/opt/conda/lib/python3.10/site-packages/sklearn_extra/cluster/_k_medoids.py:329: UserWarning: Cluster 17 is empty! self.labels_[self.medoid_indices_[17]] may not be labeled with its corresponding cluster (17).\n",
      "  warnings.warn(\n",
      "/opt/conda/lib/python3.10/site-packages/sklearn_extra/cluster/_k_medoids.py:329: UserWarning: Cluster 18 is empty! self.labels_[self.medoid_indices_[18]] may not be labeled with its corresponding cluster (18).\n",
      "  warnings.warn(\n",
      "/opt/conda/lib/python3.10/site-packages/sklearn_extra/cluster/_k_medoids.py:329: UserWarning: Cluster 19 is empty! self.labels_[self.medoid_indices_[19]] may not be labeled with its corresponding cluster (19).\n",
      "  warnings.warn(\n",
      "/opt/conda/lib/python3.10/site-packages/sklearn_extra/cluster/_k_medoids.py:329: UserWarning: Cluster 20 is empty! self.labels_[self.medoid_indices_[20]] may not be labeled with its corresponding cluster (20).\n",
      "  warnings.warn(\n",
      "/opt/conda/lib/python3.10/site-packages/sklearn_extra/cluster/_k_medoids.py:329: UserWarning: Cluster 21 is empty! self.labels_[self.medoid_indices_[21]] may not be labeled with its corresponding cluster (21).\n",
      "  warnings.warn(\n",
      "/opt/conda/lib/python3.10/site-packages/sklearn_extra/cluster/_k_medoids.py:329: UserWarning: Cluster 22 is empty! self.labels_[self.medoid_indices_[22]] may not be labeled with its corresponding cluster (22).\n",
      "  warnings.warn(\n",
      "/opt/conda/lib/python3.10/site-packages/sklearn_extra/cluster/_k_medoids.py:329: UserWarning: Cluster 23 is empty! self.labels_[self.medoid_indices_[23]] may not be labeled with its corresponding cluster (23).\n",
      "  warnings.warn(\n",
      "/opt/conda/lib/python3.10/site-packages/sklearn_extra/cluster/_k_medoids.py:329: UserWarning: Cluster 24 is empty! self.labels_[self.medoid_indices_[24]] may not be labeled with its corresponding cluster (24).\n",
      "  warnings.warn(\n"
     ]
    },
    {
     "data": {
      "text/html": [
       "<style>#sk-container-id-1 {color: black;background-color: white;}#sk-container-id-1 pre{padding: 0;}#sk-container-id-1 div.sk-toggleable {background-color: white;}#sk-container-id-1 label.sk-toggleable__label {cursor: pointer;display: block;width: 100%;margin-bottom: 0;padding: 0.3em;box-sizing: border-box;text-align: center;}#sk-container-id-1 label.sk-toggleable__label-arrow:before {content: \"▸\";float: left;margin-right: 0.25em;color: #696969;}#sk-container-id-1 label.sk-toggleable__label-arrow:hover:before {color: black;}#sk-container-id-1 div.sk-estimator:hover label.sk-toggleable__label-arrow:before {color: black;}#sk-container-id-1 div.sk-toggleable__content {max-height: 0;max-width: 0;overflow: hidden;text-align: left;background-color: #f0f8ff;}#sk-container-id-1 div.sk-toggleable__content pre {margin: 0.2em;color: black;border-radius: 0.25em;background-color: #f0f8ff;}#sk-container-id-1 input.sk-toggleable__control:checked~div.sk-toggleable__content {max-height: 200px;max-width: 100%;overflow: auto;}#sk-container-id-1 input.sk-toggleable__control:checked~label.sk-toggleable__label-arrow:before {content: \"▾\";}#sk-container-id-1 div.sk-estimator input.sk-toggleable__control:checked~label.sk-toggleable__label {background-color: #d4ebff;}#sk-container-id-1 div.sk-label input.sk-toggleable__control:checked~label.sk-toggleable__label {background-color: #d4ebff;}#sk-container-id-1 input.sk-hidden--visually {border: 0;clip: rect(1px 1px 1px 1px);clip: rect(1px, 1px, 1px, 1px);height: 1px;margin: -1px;overflow: hidden;padding: 0;position: absolute;width: 1px;}#sk-container-id-1 div.sk-estimator {font-family: monospace;background-color: #f0f8ff;border: 1px dotted black;border-radius: 0.25em;box-sizing: border-box;margin-bottom: 0.5em;}#sk-container-id-1 div.sk-estimator:hover {background-color: #d4ebff;}#sk-container-id-1 div.sk-parallel-item::after {content: \"\";width: 100%;border-bottom: 1px solid gray;flex-grow: 1;}#sk-container-id-1 div.sk-label:hover label.sk-toggleable__label {background-color: #d4ebff;}#sk-container-id-1 div.sk-serial::before {content: \"\";position: absolute;border-left: 1px solid gray;box-sizing: border-box;top: 0;bottom: 0;left: 50%;z-index: 0;}#sk-container-id-1 div.sk-serial {display: flex;flex-direction: column;align-items: center;background-color: white;padding-right: 0.2em;padding-left: 0.2em;position: relative;}#sk-container-id-1 div.sk-item {position: relative;z-index: 1;}#sk-container-id-1 div.sk-parallel {display: flex;align-items: stretch;justify-content: center;background-color: white;position: relative;}#sk-container-id-1 div.sk-item::before, #sk-container-id-1 div.sk-parallel-item::before {content: \"\";position: absolute;border-left: 1px solid gray;box-sizing: border-box;top: 0;bottom: 0;left: 50%;z-index: -1;}#sk-container-id-1 div.sk-parallel-item {display: flex;flex-direction: column;z-index: 1;position: relative;background-color: white;}#sk-container-id-1 div.sk-parallel-item:first-child::after {align-self: flex-end;width: 50%;}#sk-container-id-1 div.sk-parallel-item:last-child::after {align-self: flex-start;width: 50%;}#sk-container-id-1 div.sk-parallel-item:only-child::after {width: 0;}#sk-container-id-1 div.sk-dashed-wrapped {border: 1px dashed gray;margin: 0 0.4em 0.5em 0.4em;box-sizing: border-box;padding-bottom: 0.4em;background-color: white;}#sk-container-id-1 div.sk-label label {font-family: monospace;font-weight: bold;display: inline-block;line-height: 1.2em;}#sk-container-id-1 div.sk-label-container {text-align: center;}#sk-container-id-1 div.sk-container {/* jupyter's `normalize.less` sets `[hidden] { display: none; }` but bootstrap.min.css set `[hidden] { display: none !important; }` so we also need the `!important` here to be able to override the default hidden behavior on the sphinx rendered scikit-learn.org. See: https://github.com/scikit-learn/scikit-learn/issues/21755 */display: inline-block !important;position: relative;}#sk-container-id-1 div.sk-text-repr-fallback {display: none;}</style><div id=\"sk-container-id-1\" class=\"sk-top-container\"><div class=\"sk-text-repr-fallback\"><pre>KMedoids(n_clusters=25, random_state=42)</pre><b>In a Jupyter environment, please rerun this cell to show the HTML representation or trust the notebook. <br />On GitHub, the HTML representation is unable to render, please try loading this page with nbviewer.org.</b></div><div class=\"sk-container\" hidden><div class=\"sk-item\"><div class=\"sk-estimator sk-toggleable\"><input class=\"sk-toggleable__control sk-hidden--visually\" id=\"sk-estimator-id-1\" type=\"checkbox\" checked><label for=\"sk-estimator-id-1\" class=\"sk-toggleable__label sk-toggleable__label-arrow\">KMedoids</label><div class=\"sk-toggleable__content\"><pre>KMedoids(n_clusters=25, random_state=42)</pre></div></div></div></div></div>"
      ],
      "text/plain": [
       "KMedoids(n_clusters=25, random_state=42)"
      ]
     },
     "execution_count": 18,
     "metadata": {},
     "output_type": "execute_result"
    }
   ],
   "source": [
    "kmedoids.fit(features)"
   ]
  },
  {
   "cell_type": "code",
   "execution_count": 19,
   "id": "535f05b9",
   "metadata": {
    "execution": {
     "iopub.execute_input": "2023-11-02T20:53:59.050346Z",
     "iopub.status.busy": "2023-11-02T20:53:59.048555Z",
     "iopub.status.idle": "2023-11-02T20:53:59.059989Z",
     "shell.execute_reply": "2023-11-02T20:53:59.058371Z"
    },
    "papermill": {
     "duration": 0.031977,
     "end_time": "2023-11-02T20:53:59.063213",
     "exception": false,
     "start_time": "2023-11-02T20:53:59.031236",
     "status": "completed"
    },
    "tags": []
   },
   "outputs": [
    {
     "data": {
      "text/plain": [
       "array([ 2,  6,  2, ..., 16,  2, 16])"
      ]
     },
     "execution_count": 19,
     "metadata": {},
     "output_type": "execute_result"
    }
   ],
   "source": [
    "kmedoids.labels_"
   ]
  },
  {
   "cell_type": "code",
   "execution_count": 20,
   "id": "c896e008",
   "metadata": {
    "execution": {
     "iopub.execute_input": "2023-11-02T20:53:59.091877Z",
     "iopub.status.busy": "2023-11-02T20:53:59.090996Z",
     "iopub.status.idle": "2023-11-02T20:53:59.096772Z",
     "shell.execute_reply": "2023-11-02T20:53:59.095987Z"
    },
    "papermill": {
     "duration": 0.022531,
     "end_time": "2023-11-02T20:53:59.099411",
     "exception": false,
     "start_time": "2023-11-02T20:53:59.076880",
     "status": "completed"
    },
    "tags": []
   },
   "outputs": [
    {
     "name": "stdout",
     "output_type": "stream",
     "text": [
      "[ 2  6  2 ... 16  2 16]\n"
     ]
    }
   ],
   "source": [
    "labels = kmedoids.labels_\n",
    "print(labels)"
   ]
  }
 ],
 "metadata": {
  "kernelspec": {
   "display_name": "Python 3",
   "language": "python",
   "name": "python3"
  },
  "language_info": {
   "codemirror_mode": {
    "name": "ipython",
    "version": 3
   },
   "file_extension": ".py",
   "mimetype": "text/x-python",
   "name": "python",
   "nbconvert_exporter": "python",
   "pygments_lexer": "ipython3",
   "version": "3.10.12"
  },
  "papermill": {
   "default_parameters": {},
   "duration": 515.108229,
   "end_time": "2023-11-02T20:54:00.342418",
   "environment_variables": {},
   "exception": null,
   "input_path": "__notebook__.ipynb",
   "output_path": "__notebook__.ipynb",
   "parameters": {},
   "start_time": "2023-11-02T20:45:25.234189",
   "version": "2.4.0"
  }
 },
 "nbformat": 4,
 "nbformat_minor": 5
}
